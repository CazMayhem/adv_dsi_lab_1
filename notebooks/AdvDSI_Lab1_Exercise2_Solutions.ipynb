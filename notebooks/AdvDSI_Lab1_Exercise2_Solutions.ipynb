{
  "nbformat": 4,
  "nbformat_minor": 0,
  "metadata": {
    "colab": {
      "name": "AdvDSI-Lab1-Exercise2-Solutions.ipynb",
      "provenance": [],
      "collapsed_sections": [
        "PNuEXelvQJIj"
      ],
      "include_colab_link": true
    },
    "kernelspec": {
      "name": "python3",
      "display_name": "Python 3"
    }
  },
  "cells": [
    {
      "cell_type": "markdown",
      "metadata": {
        "id": "view-in-github",
        "colab_type": "text"
      },
      "source": [
        "<a href=\"https://colab.research.google.com/github/CazMayhem/adv_dsi_lab_1/blob/master/notebooks/AdvDSI_Lab1_Exercise2_Solutions.ipynb\" target=\"_parent\"><img src=\"https://colab.research.google.com/assets/colab-badge.svg\" alt=\"Open In Colab\"/></a>"
      ]
    },
    {
      "cell_type": "markdown",
      "metadata": {
        "id": "uQ6wc2HE0pke"
      },
      "source": [
        "# **Lab: ML Engineering**\n",
        "\n"
      ]
    },
    {
      "cell_type": "markdown",
      "metadata": {
        "id": "tQgxLRrvjiJb"
      },
      "source": [
        "## Exercise 2: Organising Git Repository\n",
        "\n",
        "We will train a ElasticNet model on the following dataset:\n",
        "https://code.datasciencedojo.com/datasciencedojo/datasets/tree/master/Online%20News%20Popularity\n",
        "\n",
        "The objective is to predict the volume of shares for a news article. \n",
        "\n",
        "**Pre-requisites:**\n",
        "- Create a github account (https://github.com/join)\n",
        "- Install git (https://git-scm.com/book/en/v2/Getting-Started-Installing-Git)\n",
        "- Install Python\n",
        "\n",
        "The steps are:\n",
        "1.   Download dataset\n",
        "2.   Load and explore dataset\n",
        "3.   Prepare Data\n",
        "4.   Get Baseline model\n",
        "5.   Train ElasticNet model\n",
        "6.   Push changes\n"
      ]
    },
    {
      "cell_type": "markdown",
      "metadata": {
        "id": "_NCwQQFkU3v5"
      },
      "source": [
        "## 1. Download dataset"
      ]
    },
    {
      "cell_type": "markdown",
      "source": [
        ""
      ],
      "metadata": {
        "id": "2WF1Krt5y_LD"
      }
    },
    {
      "cell_type": "markdown",
      "metadata": {
        "id": "cJic131ZrFKg"
      },
      "source": [
        "**[1.1]** Download the dataset into the folder data/raw "
      ]
    },
    {
      "cell_type": "code",
      "metadata": {
        "id": "r0X-a1GGrFSV"
      },
      "source": [
        "wget -P ~/Projects/adv_dsi_lab_1/data/raw https://code.datasciencedojo.com/datasciencedojo/datasets/raw/master/Online%20News%20Popularity/OnlineNewsPopularity.csv"
      ],
      "execution_count": null,
      "outputs": []
    },
    {
      "cell_type": "markdown",
      "metadata": {
        "id": "HN07be8nDhAu"
      },
      "source": [
        "**[1.2]** Preventing push to `master` branch\n"
      ]
    },
    {
      "cell_type": "code",
      "metadata": {
        "id": "SrkWaspiDjCC"
      },
      "source": [
        "git config branch.master.pushRemote no_push"
      ],
      "execution_count": null,
      "outputs": []
    },
    {
      "cell_type": "markdown",
      "metadata": {
        "id": "i0-NkSgfZDLx"
      },
      "source": [
        "\n",
        "## 2. Load and Explore Dataset\n",
        "\n"
      ]
    },
    {
      "cell_type": "markdown",
      "metadata": {
        "id": "5W5Hu2G4w9j7"
      },
      "source": [
        "**[2.1]** Launch Jupyter Lab from your virtual environment"
      ]
    },
    {
      "cell_type": "code",
      "metadata": {
        "id": "brFCfRYxw9rO"
      },
      "source": [
        "# Placeholder for student's code (1 command line)\n",
        "# Task: Launch Jupyter Lab from your virtual environment"
      ],
      "execution_count": null,
      "outputs": []
    },
    {
      "cell_type": "code",
      "metadata": {
        "id": "fva04ZV0w91m"
      },
      "source": [
        "#Solution:\n",
        "pipenv run jupyter lab"
      ],
      "execution_count": null,
      "outputs": []
    },
    {
      "cell_type": "markdown",
      "metadata": {
        "id": "M1nwKjMXxY3D"
      },
      "source": [
        "**[2.2]** Navigate the folder `notebooks` and create a new jupyter notebook called `1_elasticnet.ipynb`"
      ]
    },
    {
      "cell_type": "markdown",
      "metadata": {
        "id": "4JI0kZJxpkoK"
      },
      "source": [
        "**[2.3]** Import the pandas and numpy package"
      ]
    },
    {
      "cell_type": "code",
      "metadata": {
        "id": "85PHb6M7p57j"
      },
      "source": [
        "# Placeholder for student's code (2 lines of Python code)\n",
        "# Task: Import the pandas and numpy package"
      ],
      "execution_count": null,
      "outputs": []
    },
    {
      "cell_type": "code",
      "metadata": {
        "id": "1sXpjWA8pz0q"
      },
      "source": [
        "# Solution\n",
        "import pandas as pd\n",
        "import numpy as np"
      ],
      "execution_count": null,
      "outputs": []
    },
    {
      "cell_type": "markdown",
      "metadata": {
        "id": "R-Zy6Oq8pkuB"
      },
      "source": [
        "**[2.4]** Load the dataset into dataframe called df"
      ]
    },
    {
      "cell_type": "code",
      "metadata": {
        "id": "ZresJIasqpgH"
      },
      "source": [
        "# Placeholder for student's code (1 line of Python code)\n",
        "# Task: Load the dataset into dataframe called df"
      ],
      "execution_count": null,
      "outputs": []
    },
    {
      "cell_type": "code",
      "metadata": {
        "id": "ulxGw0rxrwt-"
      },
      "source": [
        "#Solution:\n",
        "df = pd.read_csv('../data/raw/OnlineNewsPopularity.csv')"
      ],
      "execution_count": null,
      "outputs": []
    },
    {
      "cell_type": "markdown",
      "metadata": {
        "id": "WJxrfRRMswrf"
      },
      "source": [
        "**[2.5]** Display the first 5 rows of df"
      ]
    },
    {
      "cell_type": "code",
      "metadata": {
        "id": "XLyXb0USsw7s"
      },
      "source": [
        "# Placeholder for student's code (1 line of Python code)\n",
        "# Task: Display the first 5 rows of df"
      ],
      "execution_count": null,
      "outputs": []
    },
    {
      "cell_type": "code",
      "metadata": {
        "id": "ZtwZkUUksxCP"
      },
      "source": [
        "# Solution\n",
        "df.head()"
      ],
      "execution_count": null,
      "outputs": []
    },
    {
      "cell_type": "markdown",
      "metadata": {
        "id": "6zQ6t_6Es2F3"
      },
      "source": [
        "**[2.6]** Display the dimensions (shape) of df"
      ]
    },
    {
      "cell_type": "code",
      "metadata": {
        "id": "FJIkdv46s2XI"
      },
      "source": [
        "# Placeholder for student's code (1 line of Python code)\n",
        "# Task: Task: Display the dimensions (shape) of df"
      ],
      "execution_count": null,
      "outputs": []
    },
    {
      "cell_type": "code",
      "metadata": {
        "id": "EzYCSDO4s2Zo"
      },
      "source": [
        "# Solution\n",
        "df.shape"
      ],
      "execution_count": null,
      "outputs": []
    },
    {
      "cell_type": "markdown",
      "metadata": {
        "id": "_M_vXlAhs-ic"
      },
      "source": [
        "**[2.7]** Display the summary (info) of df"
      ]
    },
    {
      "cell_type": "code",
      "metadata": {
        "id": "zBn7w3dvs-oe"
      },
      "source": [
        "# Placeholder for student's code (1 line of Python code)\n",
        "# Task: Display the summary (info) of df"
      ],
      "execution_count": null,
      "outputs": []
    },
    {
      "cell_type": "code",
      "metadata": {
        "id": "JYJuOJ3zs-qX"
      },
      "source": [
        "# Solution\n",
        "df.info()"
      ],
      "execution_count": null,
      "outputs": []
    },
    {
      "cell_type": "markdown",
      "metadata": {
        "id": "wuoUg5u6tHa0"
      },
      "source": [
        "**[2.8]** Display the descriptive statistics of df\n"
      ]
    },
    {
      "cell_type": "code",
      "metadata": {
        "id": "LpFF5nzmtHjV"
      },
      "source": [
        "# Placeholder for student's code (1 line of Python code)\n",
        "# Task: Display the descriptive statictics of df"
      ],
      "execution_count": null,
      "outputs": []
    },
    {
      "cell_type": "code",
      "metadata": {
        "id": "LrRcdf68tHmY"
      },
      "source": [
        "# Solution\n",
        "df.describe()"
      ],
      "execution_count": null,
      "outputs": []
    },
    {
      "cell_type": "markdown",
      "metadata": {
        "id": "tPHsDYeOtl5l"
      },
      "source": [
        "## 3. Prepare Data"
      ]
    },
    {
      "cell_type": "markdown",
      "metadata": {
        "id": "zJl_X7dzyZBU"
      },
      "source": [
        "**[3.1]** Create a copy of df and save it into a variable called df_cleaned"
      ]
    },
    {
      "cell_type": "code",
      "metadata": {
        "id": "PPxvjFdHyZJo"
      },
      "source": [
        "# Placeholder for student's code (1 line of Python code)\n",
        "# Task: Create a copy of df and save it into a variable called df_cleaned"
      ],
      "execution_count": null,
      "outputs": []
    },
    {
      "cell_type": "code",
      "metadata": {
        "id": "94SIRiRYyDOZ"
      },
      "source": [
        "# Solution\n",
        "df_cleaned = df.copy()"
      ],
      "execution_count": null,
      "outputs": []
    },
    {
      "cell_type": "markdown",
      "metadata": {
        "id": "JIzNxpUzytVo"
      },
      "source": [
        "**[3.2]** Drop the column `url`"
      ]
    },
    {
      "cell_type": "code",
      "metadata": {
        "id": "JLFkRdC7yZNC"
      },
      "source": [
        "# Placeholder for student's code (1 line of Python code)\n",
        "# Task: Drop the column `url`"
      ],
      "execution_count": null,
      "outputs": []
    },
    {
      "cell_type": "code",
      "metadata": {
        "id": "RyGkBuzOtmFT"
      },
      "source": [
        "# Solution:\n",
        "df_cleaned.drop('url', axis=1, inplace=True)"
      ],
      "execution_count": null,
      "outputs": []
    },
    {
      "cell_type": "markdown",
      "metadata": {
        "id": "TIn80khDzm_8"
      },
      "source": [
        "**[3.3]** Remove leading and trailing space from the column names"
      ]
    },
    {
      "cell_type": "code",
      "metadata": {
        "id": "wwxiGvm9znIX"
      },
      "source": [
        "df_cleaned.columns = df_cleaned.columns.str.strip()"
      ],
      "execution_count": null,
      "outputs": []
    },
    {
      "cell_type": "markdown",
      "metadata": {
        "id": "r8FMzCVyyQb8"
      },
      "source": [
        "**[3.4]** Extract the column `shares` and save it into variable called `target`"
      ]
    },
    {
      "cell_type": "code",
      "metadata": {
        "id": "aTn2VB7syQn8"
      },
      "source": [
        "# Placeholder for student's code (1 line of Python code)\n",
        "# Task: Extract the column shares and save it into variable called target"
      ],
      "execution_count": null,
      "outputs": []
    },
    {
      "cell_type": "code",
      "metadata": {
        "id": "EAMfTpGoyQu3"
      },
      "source": [
        "# Solution:\n",
        "target = df_cleaned.pop('shares')"
      ],
      "execution_count": null,
      "outputs": []
    },
    {
      "cell_type": "markdown",
      "metadata": {
        "id": "OxkQudqwzz7z"
      },
      "source": [
        "**[3.5]** Import StandardScaler from sklearn.preprocessing"
      ]
    },
    {
      "cell_type": "code",
      "metadata": {
        "id": "VonTi58xz0EC"
      },
      "source": [
        "# Placeholder for student's code (1 line of Python code)\n",
        "# Task: Import StandardScaler from sklearn.preprocessing"
      ],
      "execution_count": null,
      "outputs": []
    },
    {
      "cell_type": "code",
      "metadata": {
        "id": "AOBX83aKz0Rl"
      },
      "source": [
        "# Solution\n",
        "from sklearn.preprocessing import StandardScaler"
      ],
      "execution_count": null,
      "outputs": []
    },
    {
      "cell_type": "markdown",
      "metadata": {
        "id": "zD-FwMOP0ESC"
      },
      "source": [
        "**[3.6]** Instantiate the StandardScaler"
      ]
    },
    {
      "cell_type": "code",
      "metadata": {
        "id": "rK8wLflu0Ed5"
      },
      "source": [
        "# Placeholder for student's code (1 line of Python code)\n",
        "# Task: Instantiate the StandardScaler"
      ],
      "execution_count": null,
      "outputs": []
    },
    {
      "cell_type": "code",
      "metadata": {
        "id": "JfiKbw1E0Ee5"
      },
      "source": [
        "# Solution\n",
        "scaler = StandardScaler()"
      ],
      "execution_count": null,
      "outputs": []
    },
    {
      "cell_type": "markdown",
      "metadata": {
        "id": "L8Tgk3ZW0RGA"
      },
      "source": [
        "**[3.7]** Fit and apply the scaling on df"
      ]
    },
    {
      "cell_type": "code",
      "metadata": {
        "id": "V8T92u1n0RRm"
      },
      "source": [
        "# Placeholder for student's code (1 line of Python code)\n",
        "# Task: Fit and apply the scaling on df_cleaned"
      ],
      "execution_count": null,
      "outputs": []
    },
    {
      "cell_type": "code",
      "metadata": {
        "id": "D1gz4fwW0RUQ"
      },
      "source": [
        "# Solution:\n",
        "df_cleaned = scaler.fit_transform(df_cleaned)"
      ],
      "execution_count": null,
      "outputs": []
    },
    {
      "cell_type": "markdown",
      "metadata": {
        "id": "EsdB35e9MPgT"
      },
      "source": [
        "**[3.8]** Import dump from joblib\n",
        "\n"
      ]
    },
    {
      "cell_type": "code",
      "metadata": {
        "id": "iiwnHCeyMPug"
      },
      "source": [
        "# Placeholder for student's code (1 line of Python code)\n",
        "# Task: Import dump from joblib"
      ],
      "execution_count": null,
      "outputs": []
    },
    {
      "cell_type": "code",
      "metadata": {
        "id": "dUkDKhPDMPxl"
      },
      "source": [
        "# Solution:\n",
        "from joblib import dump"
      ],
      "execution_count": null,
      "outputs": []
    },
    {
      "cell_type": "markdown",
      "metadata": {
        "id": "PQpNxzKdMmbr"
      },
      "source": [
        "**[3.9]** Save the scaler into the folder `models` and call the file `scaler.joblib`"
      ]
    },
    {
      "cell_type": "code",
      "metadata": {
        "id": "21amYzx3Mmlv"
      },
      "source": [
        "# Placeholder for student's code (1 line of Python code)\n",
        "# Task: Save the scaler into the folder models and call the file scaler.joblib"
      ],
      "execution_count": null,
      "outputs": []
    },
    {
      "cell_type": "code",
      "metadata": {
        "id": "zOC8CHCBMmpL"
      },
      "source": [
        "# Solution:\n",
        "dump(scaler, '../models/scaler.joblib')"
      ],
      "execution_count": null,
      "outputs": []
    },
    {
      "cell_type": "markdown",
      "metadata": {
        "id": "BBQOsRd61Ohc"
      },
      "source": [
        "**[3.10]** Import train_test_split from sklearn.model_selection "
      ]
    },
    {
      "cell_type": "code",
      "metadata": {
        "id": "dLSnWeL71Op3"
      },
      "source": [
        "# Placeholder for student's code (1 line of Python code)\n",
        "# Import train_test_split from sklearn.model_selection"
      ],
      "execution_count": null,
      "outputs": []
    },
    {
      "cell_type": "code",
      "metadata": {
        "id": "7corXpZM1Ose"
      },
      "source": [
        "# Solution\n",
        "from sklearn.model_selection import train_test_split"
      ],
      "execution_count": null,
      "outputs": []
    },
    {
      "cell_type": "markdown",
      "metadata": {
        "id": "i_fDmAl312hJ"
      },
      "source": [
        "**[3.11]** Split randomly the dataset with random_state=8 into 2 different sets: data (80%) and test (20%)"
      ]
    },
    {
      "cell_type": "code",
      "metadata": {
        "id": "eJyJqw0p12qf"
      },
      "source": [
        "# Placeholder for student's code (1 line of Python code)\n",
        "# Task: Task: Split randomly the dataset with random_state=8 into 2 different sets: data (80%) and test (20%)"
      ],
      "execution_count": null,
      "outputs": []
    },
    {
      "cell_type": "code",
      "metadata": {
        "id": "Yay4TXsZ12vP"
      },
      "source": [
        "# Solution\n",
        "X_data, X_test, y_data, y_test = train_test_split (df_cleaned, target, test_size=0.2, random_state=8)"
      ],
      "execution_count": null,
      "outputs": []
    },
    {
      "cell_type": "markdown",
      "metadata": {
        "id": "ms2h3Y6M2Ia_"
      },
      "source": [
        "**[3.12]** Split the remaining data (80%) randomly with random_state=8 into 2 different sets: training (80%) and validation (20%)"
      ]
    },
    {
      "cell_type": "code",
      "metadata": {
        "id": "NBYxpdA22IiG"
      },
      "source": [
        "# Placeholder for student's code (1 line of Python code)\n",
        "# Task: Split the remaining data (80%) randomly with random_state=8 into 2 different sets: training (80%) and validation (20%)"
      ],
      "execution_count": null,
      "outputs": []
    },
    {
      "cell_type": "code",
      "metadata": {
        "id": "RWMz_heF2Ivg"
      },
      "source": [
        "# Solution\n",
        "X_train, X_val, y_train, y_val = train_test_split(X_data, y_data, test_size=0.2, random_state=8)"
      ],
      "execution_count": null,
      "outputs": []
    },
    {
      "cell_type": "markdown",
      "metadata": {
        "id": "HJk8z9OQ2x5D"
      },
      "source": [
        "**[3.13]** Save the different sets in the folder `data/processed`"
      ]
    },
    {
      "cell_type": "code",
      "metadata": {
        "id": "qGX48CHb2yQV"
      },
      "source": [
        "# Placeholder for student's code (6 lines of Python code)\n",
        "# Task: Save the different sets in the folder `data/processed`"
      ],
      "execution_count": null,
      "outputs": []
    },
    {
      "cell_type": "code",
      "metadata": {
        "id": "tuZrXQDx9-rO"
      },
      "source": [
        "# Solution:\n",
        "np.save('../data/processed/X_train', X_train)\n",
        "np.save('../data/processed/X_val',   X_val)\n",
        "np.save('../data/processed/X_test',  X_test)\n",
        "np.save('../data/processed/y_train', y_train)\n",
        "np.save('../data/processed/y_val',   y_val)\n",
        "np.save('../data/processed/y_test',  y_test)"
      ],
      "execution_count": null,
      "outputs": []
    },
    {
      "cell_type": "markdown",
      "metadata": {
        "id": "P4POxjz4Oi6W"
      },
      "source": [
        "## 4. Get Baseline Model"
      ]
    },
    {
      "cell_type": "markdown",
      "metadata": {
        "id": "FNcJ4Zi8OlDO"
      },
      "source": [
        "**[4.1]** Calculate the average of the target variable for the training set and save it into a variable called `y_mean`"
      ]
    },
    {
      "cell_type": "code",
      "metadata": {
        "id": "VecsH41UOlKb"
      },
      "source": [
        "# Placeholder for student's code (1 line of Python code)\n",
        "# Task: Calculate the average of the target variable for the training set and save it into a variable called y_mean"
      ],
      "execution_count": null,
      "outputs": []
    },
    {
      "cell_type": "code",
      "metadata": {
        "id": "kgye9eXmOlOK"
      },
      "source": [
        "# Solution:\n",
        "y_mean = y_train.mean()"
      ],
      "execution_count": null,
      "outputs": []
    },
    {
      "cell_type": "markdown",
      "metadata": {
        "id": "UF9FGKoNPNzZ"
      },
      "source": [
        "**[4.2]** Create a numpy array called `y_base` of dimensions (len(y_train), 1) filled with this value"
      ]
    },
    {
      "cell_type": "code",
      "metadata": {
        "id": "9eys-srGPN6y"
      },
      "source": [
        "# Placeholder for student's code (1 line of Python code)\n",
        "# Task: Create a numpy array called y_base of dimensions (len(y_train), 1) filled with this value"
      ],
      "execution_count": null,
      "outputs": []
    },
    {
      "cell_type": "code",
      "metadata": {
        "id": "fLNqdmYnPN96"
      },
      "source": [
        "# Solution:\n",
        "y_base = np.full((len(y_train), 1), y_mean)"
      ],
      "execution_count": null,
      "outputs": []
    },
    {
      "cell_type": "markdown",
      "metadata": {
        "id": "PNuEXelvQJIj"
      },
      "source": [
        "**[4.3]** Import the MSE and MAE metrics from sklearn"
      ]
    },
    {
      "cell_type": "code",
      "metadata": {
        "id": "Xhx0MjqzQJVV"
      },
      "source": [
        "# Placeholder for student's code (1 line of Python code)\n",
        "# Task: Import the MSE and MAE metrics from sklearn"
      ],
      "execution_count": null,
      "outputs": []
    },
    {
      "cell_type": "code",
      "metadata": {
        "id": "rdTR6O_cQJcH"
      },
      "source": [
        "# Solution:\n",
        "from sklearn.metrics import mean_squared_error as mse\n",
        "from sklearn.metrics import mean_absolute_error as mae"
      ],
      "execution_count": null,
      "outputs": []
    },
    {
      "cell_type": "markdown",
      "metadata": {
        "id": "LnalRa8uQRNj"
      },
      "source": [
        "**[4.4]** Display the RMSE and MAE scores of this baseline model"
      ]
    },
    {
      "cell_type": "code",
      "metadata": {
        "id": "Yj-Q9J5FQRTE"
      },
      "source": [
        "# Placeholder for student's code (2 lines of Python code)\n",
        "# Task: Display the RMSE and MAE scores of this baseline model"
      ],
      "execution_count": null,
      "outputs": []
    },
    {
      "cell_type": "code",
      "metadata": {
        "id": "hn2PL3QuQRVZ"
      },
      "source": [
        "# Solution:\n",
        "print(mse(y_train, y_base, squared=False))\n",
        "print(mae(y_train, y_base))"
      ],
      "execution_count": null,
      "outputs": []
    },
    {
      "cell_type": "markdown",
      "metadata": {
        "id": "RaGsmfanOeaQ"
      },
      "source": [
        "## 5. Train ElasticNet model"
      ]
    },
    {
      "cell_type": "markdown",
      "metadata": {
        "id": "ImPSPeLcQrS5"
      },
      "source": [
        "**[5.1]** Import the ElasticNet module from sklearn"
      ]
    },
    {
      "cell_type": "code",
      "metadata": {
        "id": "Oqu0mLfnQrZX"
      },
      "source": [
        "# Placeholder for student's code (1 line of Python code)\n",
        "# Task: Import the ElasticNet module from sklearn"
      ],
      "execution_count": null,
      "outputs": []
    },
    {
      "cell_type": "code",
      "metadata": {
        "id": "hh2wmK9wQrcB"
      },
      "source": [
        "# Solution:\n",
        "from sklearn.linear_model import ElasticNet "
      ],
      "execution_count": null,
      "outputs": []
    },
    {
      "cell_type": "markdown",
      "metadata": {
        "id": "m00Ks05tQsJb"
      },
      "source": [
        "**[5.2]** Task: instantiate the ElasticNet class into a variable called reg"
      ]
    },
    {
      "cell_type": "code",
      "metadata": {
        "id": "x--MSD6_QsRV"
      },
      "source": [
        "# Placeholder for student's code (1 line of code)\n",
        "# Task: instantiate the ElasticNet class into a variable called reg"
      ],
      "execution_count": null,
      "outputs": []
    },
    {
      "cell_type": "code",
      "metadata": {
        "id": "oijeWjaIQsT9"
      },
      "source": [
        "# Solution\n",
        "reg = ElasticNet()"
      ],
      "execution_count": null,
      "outputs": []
    },
    {
      "cell_type": "markdown",
      "metadata": {
        "id": "Ao86WklhRj-F"
      },
      "source": [
        "**[5.3]** Task: Fit the model with the prepared data"
      ]
    },
    {
      "cell_type": "code",
      "metadata": {
        "id": "lMXMIkJHRkHz"
      },
      "source": [
        "# Placeholder for student's code (1 line of code)\n",
        "# Task: Fit the model with the prepared data"
      ],
      "execution_count": null,
      "outputs": []
    },
    {
      "cell_type": "code",
      "metadata": {
        "id": "rprce0GGRkKb"
      },
      "source": [
        "# Solution\n",
        "reg.fit(X_train, y_train)"
      ],
      "execution_count": null,
      "outputs": []
    },
    {
      "cell_type": "markdown",
      "metadata": {
        "id": "LZFys_bhRtu-"
      },
      "source": [
        "**[5.4]** Save the fitted model into the folder `models` as a file called `elasticnet_default.joblib`"
      ]
    },
    {
      "cell_type": "code",
      "metadata": {
        "id": "QzHfn9UORt2e"
      },
      "source": [
        "# Placeholder for student's code (1 line of Python code)\n",
        "# Task: Save the fitted model into the folder models as a file called linearelasticnet_default_reg.joblib"
      ],
      "execution_count": null,
      "outputs": []
    },
    {
      "cell_type": "code",
      "metadata": {
        "id": "3Yn_xbLxRt4y"
      },
      "source": [
        "# Solution:\n",
        "dump(reg,  '../models/elasticnet_default.joblib')"
      ],
      "execution_count": null,
      "outputs": []
    },
    {
      "cell_type": "markdown",
      "metadata": {
        "id": "xMvlK3mkfk0Q"
      },
      "source": [
        "**[5.5]** Save the predictions from this model for the training and validation sets into 2 variables called `y_train_preds` and `y_val_preds`\n"
      ]
    },
    {
      "cell_type": "code",
      "metadata": {
        "id": "xOVFv7mFfk6D"
      },
      "source": [
        "# Placeholder for student's code (2 lines of Python code)\n",
        "# Task: Save the predictions from this model for the training and validation sets into 2 variables called y_train_preds and y_val_preds"
      ],
      "execution_count": null,
      "outputs": []
    },
    {
      "cell_type": "code",
      "metadata": {
        "id": "BTkCfP4lfk86"
      },
      "source": [
        "# Solution:\n",
        "y_train_preds = reg.predict(X_train)\n",
        "y_val_preds = reg.predict(X_val)"
      ],
      "execution_count": null,
      "outputs": []
    },
    {
      "cell_type": "markdown",
      "metadata": {
        "id": "j-JTUQkUhDhq"
      },
      "source": [
        "**[5.6]** Display the RMSE and MAE scores of this model on the training set"
      ]
    },
    {
      "cell_type": "code",
      "metadata": {
        "id": "4uYmcxWHhDnd"
      },
      "source": [
        "# Placeholder for student's code (2 lines of Python code)\n",
        "# Task: Display the RMSE and MAE scores of this model on the training set"
      ],
      "execution_count": null,
      "outputs": []
    },
    {
      "cell_type": "code",
      "metadata": {
        "id": "hQd__b-chDqR"
      },
      "source": [
        "# Solution:\n",
        "print(mse(y_train, y_train_preds, squared=False))\n",
        "print(mae(y_train, y_train_preds))"
      ],
      "execution_count": null,
      "outputs": []
    },
    {
      "cell_type": "markdown",
      "metadata": {
        "id": "1rAjI3c4TIPK"
      },
      "source": [
        "**[5.7]** Display the RMSE and MAE scores of this model on the validation set"
      ]
    },
    {
      "cell_type": "code",
      "metadata": {
        "id": "ro3FgUvbTIXH"
      },
      "source": [
        "# Placeholder for student's code (2 lines of Python code)\n",
        "# Task: Display the RMSE and MAE scores of this model on the validation set"
      ],
      "execution_count": null,
      "outputs": []
    },
    {
      "cell_type": "code",
      "metadata": {
        "id": "YqiLiSVzTIZ1"
      },
      "source": [
        "# Solution:\n",
        "print(mse(y_val, y_val_preds, squared=False))\n",
        "print(mae(y_val, y_val_preds))"
      ],
      "execution_count": null,
      "outputs": []
    },
    {
      "cell_type": "markdown",
      "metadata": {
        "id": "1yX0Ocg4hcZM"
      },
      "source": [
        "## 6.   Push changes"
      ]
    },
    {
      "cell_type": "markdown",
      "metadata": {
        "id": "3guOKU9gjrmp"
      },
      "source": [
        "**[6.1]** Add you changes to git staging area"
      ]
    },
    {
      "cell_type": "code",
      "metadata": {
        "id": "lKuRNeqAj0ym"
      },
      "source": [
        "# Placeholder for student's code (1 command line)\n",
        "# Task: Add you changes to git staging area"
      ],
      "execution_count": null,
      "outputs": []
    },
    {
      "cell_type": "code",
      "metadata": {
        "id": "axcj-jS0jruy"
      },
      "source": [
        "# Solution:\n",
        "git add ."
      ],
      "execution_count": null,
      "outputs": []
    },
    {
      "cell_type": "markdown",
      "metadata": {
        "id": "6nUK2dp_j67X"
      },
      "source": [
        "**[6.2]** Create the snapshot of your repository and add a description"
      ]
    },
    {
      "cell_type": "code",
      "metadata": {
        "id": "1-M-aS-Ij7EE"
      },
      "source": [
        "# Placeholder for student's code (1 command line)\n",
        "# Task: Create the snapshot of your repository and add a description"
      ],
      "execution_count": null,
      "outputs": []
    },
    {
      "cell_type": "code",
      "metadata": {
        "id": "zovhzXRxj7Il"
      },
      "source": [
        "# Solution:\n",
        "git commit -m \"first commit\""
      ],
      "execution_count": null,
      "outputs": []
    },
    {
      "cell_type": "markdown",
      "metadata": {
        "id": "Y9FciIQZj7nX"
      },
      "source": [
        "**[6.3]** Push your snapshot to Github"
      ]
    },
    {
      "cell_type": "code",
      "metadata": {
        "id": "IR7i6D5hj7uO"
      },
      "source": [
        "# Placeholder for student's code (1 command line)\n",
        "# Task: Push your snapshot to Github"
      ],
      "execution_count": null,
      "outputs": []
    },
    {
      "cell_type": "code",
      "metadata": {
        "id": "WaVAgJ4Aj7wi"
      },
      "source": [
        "# Solution:\n",
        "git push"
      ],
      "execution_count": null,
      "outputs": []
    },
    {
      "cell_type": "markdown",
      "metadata": {
        "id": "4W3VjCYvBU8y"
      },
      "source": [
        "**[6.4]** Close Jupyter Lab with control (command) + c"
      ]
    }
  ]
}