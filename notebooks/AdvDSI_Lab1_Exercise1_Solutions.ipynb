{
  "nbformat": 4,
  "nbformat_minor": 0,
  "metadata": {
    "colab": {
      "name": "AdvDSI-Lab1-Exercise1-Solutions.ipynb",
      "provenance": [],
      "collapsed_sections": [],
      "include_colab_link": true
    },
    "kernelspec": {
      "name": "python3",
      "display_name": "Python 3"
    }
  },
  "cells": [
    {
      "cell_type": "markdown",
      "metadata": {
        "id": "view-in-github",
        "colab_type": "text"
      },
      "source": [
        "<a href=\"https://colab.research.google.com/github/CazMayhem/adv_dsi_lab_1/blob/master/notebooks/AdvDSI_Lab1_Exercise1_Solutions.ipynb\" target=\"_parent\"><img src=\"https://colab.research.google.com/assets/colab-badge.svg\" alt=\"Open In Colab\"/></a>"
      ]
    },
    {
      "cell_type": "markdown",
      "metadata": {
        "id": "uQ6wc2HE0pke"
      },
      "source": [
        "# **Lab: ML Engineering**\n",
        "\n"
      ]
    },
    {
      "cell_type": "markdown",
      "metadata": {
        "id": "tQgxLRrvjiJb"
      },
      "source": [
        "## Exercise 1: Setting up new Git Repository\n",
        "\n",
        "We will start by setting up a new git repository that will be used for storing, tracking, collaborating and sharing the code for a new project.\n",
        "\n",
        "**Pre-requisites:**\n",
        "- Create a github account (https://github.com/join)\n",
        "- Install git (https://git-scm.com/book/en/v2/Getting-Started-Installing-Git)\n",
        "- Install pipenv (https://pypi.org/project/pipenv/)\n",
        "\n",
        "The steps are:\n",
        "1.   Create local folder for repo\n",
        "2.   Initialise git \n",
        "3.   Add content\n",
        "4.   Install packages with pipenv"
      ]
    },
    {
      "cell_type": "markdown",
      "metadata": {
        "id": "smh_LhVjIg9s"
      },
      "source": [
        "### 1. Setup repo"
      ]
    },
    {
      "cell_type": "markdown",
      "metadata": {
        "id": "WbNpeOe-5flB"
      },
      "source": [
        "**[1.1]** Open a command prompt on your computer"
      ]
    },
    {
      "cell_type": "markdown",
      "metadata": {
        "id": "urrLvZmTUX23"
      },
      "source": [
        "**[1.2]** Go to a folder of your choice on your computer (where you store projects)"
      ]
    },
    {
      "cell_type": "code",
      "metadata": {
        "id": "nDAwl-fSVgIe"
      },
      "source": [
        "cd ~/Projects"
      ],
      "execution_count": null,
      "outputs": []
    },
    {
      "cell_type": "markdown",
      "metadata": {
        "id": "WwOZl3HpUZif"
      },
      "source": [
        "**[1.3]** Install cookicutter using pip"
      ]
    },
    {
      "cell_type": "code",
      "metadata": {
        "id": "3Vt5SUiQVpB9"
      },
      "source": [
        "pip install cookiecutter"
      ],
      "execution_count": null,
      "outputs": []
    },
    {
      "cell_type": "markdown",
      "metadata": {
        "id": "hs7TE4vnWSWw"
      },
      "source": [
        "**[1.4]** Copy the cookiecutter data science template"
      ]
    },
    {
      "cell_type": "code",
      "metadata": {
        "id": "hRPEVKp5WTSh"
      },
      "source": [
        "cookiecutter -c v1 https://github.com/drivendata/cookiecutter-data-science"
      ],
      "execution_count": null,
      "outputs": []
    },
    {
      "cell_type": "markdown",
      "source": [
        "**[1.5]** Go inside the created folder `adv_dsi_lab_1`"
      ],
      "metadata": {
        "id": "cyKDtO1Yssvj"
      }
    },
    {
      "cell_type": "code",
      "source": [
        "# Placeholder for student's code (1 command line)\n",
        "# Task: Go into the created folder adv_dsi_lab_1_1"
      ],
      "metadata": {
        "id": "eLc6Dw6Vss2N"
      },
      "execution_count": null,
      "outputs": []
    },
    {
      "cell_type": "code",
      "source": [
        "#Solution:\n",
        "cd adv_dsi_lab_1"
      ],
      "metadata": {
        "id": "bvnK-vC6ss9J"
      },
      "execution_count": null,
      "outputs": []
    },
    {
      "cell_type": "markdown",
      "metadata": {
        "id": "cZ3dcCcYWikq"
      },
      "source": [
        "**[1.6]** Display the content of `adv_dsi_lab_1`"
      ]
    },
    {
      "cell_type": "code",
      "metadata": {
        "id": "iEcixkgqWnyo"
      },
      "source": [
        "ls -la"
      ],
      "execution_count": null,
      "outputs": []
    },
    {
      "cell_type": "markdown",
      "metadata": {
        "id": "_NCwQQFkU3v5"
      },
      "source": [
        "### 2. Initialise git"
      ]
    },
    {
      "cell_type": "markdown",
      "metadata": {
        "id": "iUTqJva8U_5_"
      },
      "source": [
        "**[2.1]** Initialise the repo\n"
      ]
    },
    {
      "cell_type": "code",
      "metadata": {
        "id": "Cx0yZ4Z7KQ21"
      },
      "source": [
        "# Placeholder for student's code (1 command line)\n",
        "# Task: Initialise the repo"
      ],
      "execution_count": null,
      "outputs": []
    },
    {
      "cell_type": "code",
      "metadata": {
        "id": "5V0RQgxcVaOa"
      },
      "source": [
        "# Solution\n",
        "git init"
      ],
      "execution_count": null,
      "outputs": []
    },
    {
      "cell_type": "markdown",
      "metadata": {
        "id": "aUASjZ9hVc64"
      },
      "source": [
        "**[2.2]** Display the content of `adv_dsi`\n"
      ]
    },
    {
      "cell_type": "code",
      "metadata": {
        "id": "kXAzEy4KVdEU"
      },
      "source": [
        "ls -la"
      ],
      "execution_count": null,
      "outputs": []
    },
    {
      "cell_type": "markdown",
      "metadata": {
        "id": "Iv56CQctXKMG"
      },
      "source": [
        "Now the folder contains a file called `git`. Every time you will make a change on this repository, git will store some information in this file. You don't to edit this file.\n"
      ]
    },
    {
      "cell_type": "markdown",
      "metadata": {
        "id": "ZdpqK6XCXdiS"
      },
      "source": [
        "**[2.3]** Login into Github with your account (https://github.com/)\n"
      ]
    },
    {
      "cell_type": "markdown",
      "metadata": {
        "id": "cU_ybB5mXxgN"
      },
      "source": [
        "**[2.4]** Create a public repo with the name `adv_dsi_lab_1`\n",
        "\n"
      ]
    },
    {
      "cell_type": "markdown",
      "metadata": {
        "id": "1PZTU84XYJhX"
      },
      "source": [
        "**[2.5]** In your local repo `adv_dsi_lab_1`, link it with Github (replace the url with your username)\n"
      ]
    },
    {
      "cell_type": "code",
      "metadata": {
        "id": "oWYFJxJSXdtz"
      },
      "source": [
        "git remote add origin git@github.com:<username>/adv_dsi_lab_1.git"
      ],
      "execution_count": null,
      "outputs": []
    },
    {
      "cell_type": "markdown",
      "metadata": {
        "id": "i0-NkSgfZDLx"
      },
      "source": [
        "### 3. Push Content\n"
      ]
    },
    {
      "cell_type": "markdown",
      "metadata": {
        "id": "zKdFokEXafti"
      },
      "source": [
        "**[3.1]** Add you changes to git staging area"
      ]
    },
    {
      "cell_type": "code",
      "metadata": {
        "id": "BTyUEo7jKUOO"
      },
      "source": [
        "# Placeholder for student's code (1 command line)\n",
        "# Task: Add you changes to git staging area"
      ],
      "execution_count": null,
      "outputs": []
    },
    {
      "cell_type": "code",
      "metadata": {
        "id": "q5p6rJHzaf7y"
      },
      "source": [
        "# Solution\n",
        "git add ."
      ],
      "execution_count": null,
      "outputs": []
    },
    {
      "cell_type": "markdown",
      "metadata": {
        "id": "UoYjBXnYbK_5"
      },
      "source": [
        "**[3.2]** Create the snapshot of your repository and add a description"
      ]
    },
    {
      "cell_type": "code",
      "metadata": {
        "id": "bqJOvs8zKU0p"
      },
      "source": [
        "# Placeholder for student's code (1 command line)\n",
        "# Task: Create the snapshot of your repository and add a description"
      ],
      "execution_count": null,
      "outputs": []
    },
    {
      "cell_type": "code",
      "metadata": {
        "id": "imNNhYQ1bUbg"
      },
      "source": [
        "# Solution\n",
        "git commit -m \"first commit\""
      ],
      "execution_count": null,
      "outputs": []
    },
    {
      "cell_type": "markdown",
      "metadata": {
        "id": "HxPel32vbaql"
      },
      "source": [
        "**[3.3]** Push your snapshot to Github"
      ]
    },
    {
      "cell_type": "code",
      "metadata": {
        "id": "4GdshiJXKVg3"
      },
      "source": [
        "# Placeholder for student's code (1 command line)\n",
        "# Task: Push your snapshot to Github"
      ],
      "execution_count": null,
      "outputs": []
    },
    {
      "cell_type": "code",
      "metadata": {
        "id": "bH7b5jwHba7w"
      },
      "source": [
        "# Solution\n",
        "git push --set-upstream origin master"
      ],
      "execution_count": null,
      "outputs": []
    },
    {
      "cell_type": "markdown",
      "metadata": {
        "id": "mKEvK-lUbkJK"
      },
      "source": [
        "**[3.4]** Go to Github and check your changes have been synchronised with Github"
      ]
    },
    {
      "cell_type": "markdown",
      "metadata": {
        "id": "nLXRTNOKuAzf"
      },
      "source": [
        "# 4. Install packages with pipenv"
      ]
    },
    {
      "cell_type": "markdown",
      "metadata": {
        "id": "oKiRrCp2uD5q"
      },
      "source": [
        "**[4.1]** Install pandas 1.3.5 with pipenv"
      ]
    },
    {
      "cell_type": "code",
      "metadata": {
        "id": "ztRtyZKjKWh9"
      },
      "source": [
        "# Placeholder for student's code (1 command line)\n",
        "# Task: Install pandas 1.3.5 with pipenv"
      ],
      "execution_count": null,
      "outputs": []
    },
    {
      "cell_type": "code",
      "metadata": {
        "id": "nYhMKZiJuA8J"
      },
      "source": [
        "# Solution\n",
        "pipenv install pandas==1.3.5"
      ],
      "execution_count": null,
      "outputs": []
    },
    {
      "cell_type": "markdown",
      "metadata": {
        "id": "c3FM9X77ucGg"
      },
      "source": [
        "**[4.2]** Install jupyter lab 3.2.8 with pipenv"
      ]
    },
    {
      "cell_type": "code",
      "metadata": {
        "id": "_b2WP1KqKXK1"
      },
      "source": [
        "# Placeholder for student's code (1 command line)\n",
        "# Task: Install jupyter lab 3.2.8 with pipenv"
      ],
      "execution_count": null,
      "outputs": []
    },
    {
      "cell_type": "code",
      "metadata": {
        "id": "1cNEO11fubF_"
      },
      "source": [
        "# Solution\n",
        "pipenv install jupyterlab==3.2.8"
      ],
      "execution_count": null,
      "outputs": []
    },
    {
      "cell_type": "markdown",
      "metadata": {
        "id": "254Sseey01H0"
      },
      "source": [
        "**[4.3]** Install sklearn 1.0.2 with pipenv"
      ]
    },
    {
      "cell_type": "code",
      "metadata": {
        "id": "XVO9p5C_KX86"
      },
      "source": [
        "# Placeholder for student's code (1 command line)\n",
        "# Task: Install sklearn 1.0.2 with pipenv"
      ],
      "execution_count": null,
      "outputs": []
    },
    {
      "cell_type": "code",
      "metadata": {
        "id": "rIrCHkME01UI"
      },
      "source": [
        "# Solution\n",
        "pipenv install scikit-learn==1.0.2"
      ],
      "execution_count": null,
      "outputs": []
    },
    {
      "cell_type": "markdown",
      "metadata": {
        "id": "IH79SOTyvGur"
      },
      "source": [
        "**[4.4]** Display the content of `adv_dsi_lab_1`"
      ]
    },
    {
      "cell_type": "code",
      "metadata": {
        "id": "WmYwxW90vI9u"
      },
      "source": [
        "ls -la"
      ],
      "execution_count": null,
      "outputs": []
    },
    {
      "cell_type": "markdown",
      "metadata": {
        "id": "6oIumVHbvXTv"
      },
      "source": [
        "a Pipfile and Pipfile.lock have been created. They contains all the packages and dependencies for this project."
      ]
    },
    {
      "cell_type": "markdown",
      "metadata": {
        "id": "evToskyF6nKE"
      },
      "source": [
        "**[4.5]** Generate a `requirements.txt` file"
      ]
    },
    {
      "cell_type": "code",
      "metadata": {
        "id": "tSF0UyYL6nQ9"
      },
      "source": [
        "pipenv run pip freeze >> requirements.txt"
      ],
      "execution_count": null,
      "outputs": []
    },
    {
      "cell_type": "markdown",
      "metadata": {
        "id": "9uFtPW6RuqQG"
      },
      "source": [
        "**[4.6]** Launch Jupyter Lab in your virtual environment and try importing pandas in a notebook"
      ]
    },
    {
      "cell_type": "code",
      "metadata": {
        "id": "tp-KCLPsKZjx"
      },
      "source": [
        "# Placeholder for student's code (1 command line)\n",
        "# Task: Launch Jupyter Lab in your virtual environment and try importing pandas in a notebook"
      ],
      "execution_count": null,
      "outputs": []
    },
    {
      "cell_type": "code",
      "metadata": {
        "id": "2p40QN_EuqWD"
      },
      "source": [
        "# Solution\n",
        "pipenv run jupyter lab"
      ],
      "execution_count": null,
      "outputs": []
    }
  ]
}